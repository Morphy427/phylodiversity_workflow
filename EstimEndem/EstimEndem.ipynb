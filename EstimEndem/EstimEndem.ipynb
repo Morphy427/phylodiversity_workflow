{
 "cells": [
  {
   "cell_type": "code",
   "execution_count": 3,
   "id": "c99b084d-0d98-427e-84d5-0c221f032530",
   "metadata": {},
   "outputs": [],
   "source": [
    "system(\"conda install r-sp r-phyloregion=1.0.8 r-ape r-matrix r-sf r-raster r-dplyr\")"
   ]
  },
  {
   "cell_type": "code",
   "execution_count": 4,
   "id": "291192ca-2e85-4ba1-ace6-89d1b80058a3",
   "metadata": {},
   "outputs": [
    {
     "name": "stderr",
     "output_type": "stream",
     "text": [
      "Updating HTML index of packages in '.Library'\n",
      "\n",
      "Making 'packages.html' ...\n",
      " done\n",
      "\n",
      "'getOption(\"repos\")' replaces Bioconductor standard repositories, see\n",
      "'help(\"repositories\", package = \"BiocManager\")' for details.\n",
      "Replacement repositories:\n",
      "    CRAN: https://cran.r-project.org\n",
      "\n",
      "Bioconductor version 3.18 (BiocManager 1.30.25), R 4.3.3 (2024-02-29)\n",
      "\n",
      "Installing package(s) 'BiocVersion', 'SparseArray'\n",
      "\n",
      "also installing the dependencies ‘zlibbioc’, ‘BiocGenerics’, ‘MatrixGenerics’, ‘S4Vectors’, ‘S4Arrays’, ‘matrixStats’, ‘IRanges’, ‘XVector’\n",
      "\n",
      "\n",
      "Updating HTML index of packages in '.Library'\n",
      "\n",
      "Making 'packages.html' ...\n",
      " done\n",
      "\n",
      "Old packages: 'abind', 'caret', 'cli', 'diffobj', 'gert', 'gower', 'httpuv',\n",
      "  'igraph', 'RCurl', 'RODBC', 'scales', 'systemfonts', 'units', 'XML'\n",
      "\n"
     ]
    }
   ],
   "source": [
    "install.packages(\"BiocManager\")\n",
    "BiocManager::install(\"SparseArray\")"
   ]
  },
  {
   "cell_type": "code",
   "execution_count": 5,
   "id": "3379ddf5-a5dd-4cc2-b220-92b5dd77e359",
   "metadata": {},
   "outputs": [
    {
     "name": "stderr",
     "output_type": "stream",
     "text": [
      "Loading required package: BiocGenerics\n",
      "\n",
      "\n",
      "Attaching package: ‘BiocGenerics’\n",
      "\n",
      "\n",
      "The following object is masked from ‘package:phyloregion’:\n",
      "\n",
      "    counts\n",
      "\n",
      "\n",
      "The following objects are masked from ‘package:stats’:\n",
      "\n",
      "    IQR, mad, sd, var, xtabs\n",
      "\n",
      "\n",
      "The following objects are masked from ‘package:base’:\n",
      "\n",
      "    anyDuplicated, aperm, append, as.data.frame, basename, cbind,\n",
      "    colnames, dirname, do.call, duplicated, eval, evalq, Filter, Find,\n",
      "    get, grep, grepl, intersect, is.unsorted, lapply, Map, mapply,\n",
      "    match, mget, order, paste, pmax, pmax.int, pmin, pmin.int,\n",
      "    Position, rank, rbind, Reduce, rownames, sapply, setdiff, sort,\n",
      "    table, tapply, union, unique, unsplit, which.max, which.min\n",
      "\n",
      "\n",
      "Loading required package: MatrixGenerics\n",
      "\n",
      "Loading required package: matrixStats\n",
      "\n",
      "\n",
      "Attaching package: ‘MatrixGenerics’\n",
      "\n",
      "\n",
      "The following objects are masked from ‘package:matrixStats’:\n",
      "\n",
      "    colAlls, colAnyNAs, colAnys, colAvgsPerRowSet, colCollapse,\n",
      "    colCounts, colCummaxs, colCummins, colCumprods, colCumsums,\n",
      "    colDiffs, colIQRDiffs, colIQRs, colLogSumExps, colMadDiffs,\n",
      "    colMads, colMaxs, colMeans2, colMedians, colMins, colOrderStats,\n",
      "    colProds, colQuantiles, colRanges, colRanks, colSdDiffs, colSds,\n",
      "    colSums2, colTabulates, colVarDiffs, colVars, colWeightedMads,\n",
      "    colWeightedMeans, colWeightedMedians, colWeightedSds,\n",
      "    colWeightedVars, rowAlls, rowAnyNAs, rowAnys, rowAvgsPerColSet,\n",
      "    rowCollapse, rowCounts, rowCummaxs, rowCummins, rowCumprods,\n",
      "    rowCumsums, rowDiffs, rowIQRDiffs, rowIQRs, rowLogSumExps,\n",
      "    rowMadDiffs, rowMads, rowMaxs, rowMeans2, rowMedians, rowMins,\n",
      "    rowOrderStats, rowProds, rowQuantiles, rowRanges, rowRanks,\n",
      "    rowSdDiffs, rowSds, rowSums2, rowTabulates, rowVarDiffs, rowVars,\n",
      "    rowWeightedMads, rowWeightedMeans, rowWeightedMedians,\n",
      "    rowWeightedSds, rowWeightedVars\n",
      "\n",
      "\n",
      "Loading required package: S4Vectors\n",
      "\n",
      "Loading required package: stats4\n",
      "\n",
      "\n",
      "Attaching package: ‘S4Vectors’\n",
      "\n",
      "\n",
      "The following objects are masked from ‘package:Matrix’:\n",
      "\n",
      "    expand, unname\n",
      "\n",
      "\n",
      "The following object is masked from ‘package:utils’:\n",
      "\n",
      "    findMatches\n",
      "\n",
      "\n",
      "The following objects are masked from ‘package:base’:\n",
      "\n",
      "    expand.grid, I, unname\n",
      "\n",
      "\n",
      "Loading required package: S4Arrays\n",
      "\n",
      "Loading required package: abind\n",
      "\n",
      "Loading required package: IRanges\n",
      "\n",
      "\n",
      "Attaching package: ‘S4Arrays’\n",
      "\n",
      "\n",
      "The following object is masked from ‘package:abind’:\n",
      "\n",
      "    abind\n",
      "\n",
      "\n",
      "The following object is masked from ‘package:base’:\n",
      "\n",
      "    rowsum\n",
      "\n",
      "\n",
      "Linking to GEOS 3.13.0, GDAL 3.10.2, PROJ 9.5.1; sf_use_s2() is TRUE\n",
      "\n",
      "\n",
      "Attaching package: ‘sp’\n",
      "\n",
      "\n",
      "The following object is masked from ‘package:IRanges’:\n",
      "\n",
      "    %over%\n",
      "\n",
      "\n",
      "\n",
      "Attaching package: ‘raster’\n",
      "\n",
      "\n",
      "The following objects are masked from ‘package:S4Vectors’:\n",
      "\n",
      "    metadata, metadata<-\n",
      "\n",
      "\n",
      "\n",
      "Attaching package: ‘dplyr’\n",
      "\n",
      "\n",
      "The following objects are masked from ‘package:raster’:\n",
      "\n",
      "    intersect, select, union\n",
      "\n",
      "\n",
      "The following objects are masked from ‘package:IRanges’:\n",
      "\n",
      "    collapse, desc, intersect, setdiff, slice, union\n",
      "\n",
      "\n",
      "The following objects are masked from ‘package:S4Vectors’:\n",
      "\n",
      "    first, intersect, rename, setdiff, setequal, union\n",
      "\n",
      "\n",
      "The following object is masked from ‘package:matrixStats’:\n",
      "\n",
      "    count\n",
      "\n",
      "\n",
      "The following objects are masked from ‘package:BiocGenerics’:\n",
      "\n",
      "    combine, intersect, setdiff, union\n",
      "\n",
      "\n",
      "The following object is masked from ‘package:ape’:\n",
      "\n",
      "    where\n",
      "\n",
      "\n",
      "The following objects are masked from ‘package:stats’:\n",
      "\n",
      "    filter, lag\n",
      "\n",
      "\n",
      "The following objects are masked from ‘package:base’:\n",
      "\n",
      "    intersect, setdiff, setequal, union\n",
      "\n",
      "\n"
     ]
    }
   ],
   "source": [
    "library(phyloregion)\n",
    "library(ape)\n",
    "library(Matrix)\n",
    "library(SparseArray)\n",
    "library(sf)\n",
    "library(sp)\n",
    "library(raster)\n",
    "library(dplyr)"
   ]
  },
  {
   "cell_type": "code",
   "execution_count": 6,
   "id": "42640417-77c9-4a9f-b61c-446becb35148",
   "metadata": {},
   "outputs": [],
   "source": [
    "args = c(\"galaxy_inputs/matrix/matrix_file.csv\", \"galaxy_inputs/tree/tree_file.txt.txt\", \"galaxy_inputs/grid/grid_aq_3_PF.shp\")"
   ]
  },
  {
   "cell_type": "code",
   "execution_count": 24,
   "id": "bc11cac0-5bee-479b-a908-d7d428b6272f",
   "metadata": {},
   "outputs": [],
   "source": [
    "save_sf <- function(){\n",
    "  #st_write(phyloreg_sf[,-(3:5)], paste0(tempdir(), \"/\", \"output.shp\"), delete_layer = TRUE)\n",
    "  write_sf(phyloreg_sf, \"output.shp\", delete_layer = TRUE)\n",
    "}"
   ]
  },
  {
   "cell_type": "code",
   "execution_count": 8,
   "id": "b78b2683-83fd-44af-89ad-7721616a295d",
   "metadata": {},
   "outputs": [],
   "source": [
    "comm_matrix <- readSparseCSV(args[1])\n",
    "comm_matrix <- as(comm_matrix,\"dgCMatrix\")"
   ]
  },
  {
   "cell_type": "code",
   "execution_count": 9,
   "id": "95e874ff-9804-416c-901b-8b9d90333670",
   "metadata": {},
   "outputs": [],
   "source": [
    "comm_tree <- read.tree(args[2])"
   ]
  },
  {
   "cell_type": "code",
   "execution_count": 15,
   "id": "6ac19d8d-ba2d-40da-98cf-51a504bb1efa",
   "metadata": {},
   "outputs": [],
   "source": [
    "grid <- read_sf(args[3])\n",
    "# manipulation temporaire ( a retirer quand usage avec script CRSConverter (outils 1))\n",
    "prj_laea     <- \"+proj=laea +lat_0=-90 +lon_0=0 +x_0=0 +y_0=0 +ellps=WGS84 +datum=WGS84 +units=m +no_defs\" \n",
    "grid <- st_transform(grid, crs = prj_laea)"
   ]
  },
  {
   "cell_type": "code",
   "execution_count": 16,
   "id": "4c6dae87-43ef-426c-82cd-64fc28058ed2",
   "metadata": {},
   "outputs": [],
   "source": [
    "phylo_beta <- phylobeta(comm_matrix, comm_tree, index.family = \"sorensen\")"
   ]
  },
  {
   "cell_type": "code",
   "execution_count": 17,
   "id": "9043b27b-384f-4b38-a86f-4bef6e4d5815",
   "metadata": {},
   "outputs": [
    {
     "name": "stdout",
     "output_type": "stream",
     "text": [
      "\n",
      "A good clustering algorithm for the distance matrix is:\n",
      " UPGMA with cophenetic correlation = 0.5754278 \n",
      "\n"
     ]
    },
    {
     "data": {
      "text/html": [
       "<style>\n",
       ".dl-inline {width: auto; margin:0; padding: 0}\n",
       ".dl-inline>dt, .dl-inline>dd {float: none; width: auto; display: inline-block}\n",
       ".dl-inline>dt::after {content: \":\\0020\"; padding-right: .5ex}\n",
       ".dl-inline>dt:not(:first-of-type) {padding-left: .5ex}\n",
       "</style><dl class=dl-inline><dt>UPGMA</dt><dd>0.575427833434117</dd><dt>Single</dt><dd>0.169229033758108</dd><dt>Complete</dt><dd>0.45601269643082</dd><dt>ward.D</dt><dd>0.439738056869009</dd><dt>ward.D2</dt><dd>0.420238762778612</dd><dt>WPGMA</dt><dd>0.424570396770453</dd><dt>WPGMC</dt><dd>0.462597421196649</dd><dt>UPGMC</dt><dd>0.550196625132716</dd></dl>\n"
      ],
      "text/latex": [
       "\\begin{description*}\n",
       "\\item[UPGMA] 0.575427833434117\n",
       "\\item[Single] 0.169229033758108\n",
       "\\item[Complete] 0.45601269643082\n",
       "\\item[ward.D] 0.439738056869009\n",
       "\\item[ward.D2] 0.420238762778612\n",
       "\\item[WPGMA] 0.424570396770453\n",
       "\\item[WPGMC] 0.462597421196649\n",
       "\\item[UPGMC] 0.550196625132716\n",
       "\\end{description*}\n"
      ],
      "text/markdown": [
       "UPGMA\n",
       ":   0.575427833434117Single\n",
       ":   0.169229033758108Complete\n",
       ":   0.45601269643082ward.D\n",
       ":   0.439738056869009ward.D2\n",
       ":   0.420238762778612WPGMA\n",
       ":   0.424570396770453WPGMC\n",
       ":   0.462597421196649UPGMC\n",
       ":   0.550196625132716\n",
       "\n"
      ],
      "text/plain": [
       "    UPGMA    Single  Complete    ward.D   ward.D2     WPGMA     WPGMC     UPGMC \n",
       "0.5754278 0.1692290 0.4560127 0.4397381 0.4202388 0.4245704 0.4625974 0.5501966 "
      ]
     },
     "metadata": {},
     "output_type": "display_data"
    }
   ],
   "source": [
    "select_linkage(phylo_beta[[1]])"
   ]
  },
  {
   "cell_type": "code",
   "execution_count": 18,
   "id": "4f3d3153-6ef7-4a88-b14a-e74d17559693",
   "metadata": {},
   "outputs": [],
   "source": [
    "optim <- optimal_phyloregion(phylo_beta[[3]], k = 30)"
   ]
  },
  {
   "cell_type": "code",
   "execution_count": 19,
   "id": "21f9d0d7-faab-4274-ba18-f2ff0e64d376",
   "metadata": {},
   "outputs": [],
   "source": [
    "grid_sp <- as_Spatial(grid)"
   ]
  },
  {
   "cell_type": "code",
   "execution_count": 20,
   "id": "533faf34-d9cf-4da5-aa19-ba61c7d12388",
   "metadata": {},
   "outputs": [
    {
     "name": "stderr",
     "output_type": "stream",
     "text": [
      "Warning message in mixcolor(seq(0, 199)/199, polarLUV(70, 50, 30), polarLUV(70, :\n",
      "“convex combination of colors in polar coordinates (polarLUV) may not be appropriate”\n",
      "Warning message in mixcolor(seq(0, 199)/199, polarLUV(70, 50, 300), polarLUV(70, :\n",
      "“convex combination of colors in polar coordinates (polarLUV) may not be appropriate”\n"
     ]
    }
   ],
   "source": [
    "y <- phyloregion(phylo_beta[[3]], pol = grid_sp, k = 8, method = \"average\")"
   ]
  },
  {
   "cell_type": "code",
   "execution_count": 21,
   "id": "bd359594-5367-45e3-b08e-db036c4ef302",
   "metadata": {},
   "outputs": [
    {
     "data": {
      "text/plain": [
       "Coordinate Reference System:\n",
       "  User input: +proj=laea +lat_0=-90 +lon_0=0 +x_0=0 +y_0=0 +datum=WGS84 +units=m +no_defs \n",
       "  wkt:\n",
       "PROJCRS[\"unknown\",\n",
       "    BASEGEOGCRS[\"unknown\",\n",
       "        DATUM[\"World Geodetic System 1984\",\n",
       "            ELLIPSOID[\"WGS 84\",6378137,298.257223563,\n",
       "                LENGTHUNIT[\"metre\",1]],\n",
       "            ID[\"EPSG\",6326]],\n",
       "        PRIMEM[\"Greenwich\",0,\n",
       "            ANGLEUNIT[\"degree\",0.0174532925199433],\n",
       "            ID[\"EPSG\",8901]]],\n",
       "    CONVERSION[\"unknown\",\n",
       "        METHOD[\"Lambert Azimuthal Equal Area\",\n",
       "            ID[\"EPSG\",9820]],\n",
       "        PARAMETER[\"Latitude of natural origin\",-90,\n",
       "            ANGLEUNIT[\"degree\",0.0174532925199433],\n",
       "            ID[\"EPSG\",8801]],\n",
       "        PARAMETER[\"Longitude of natural origin\",0,\n",
       "            ANGLEUNIT[\"degree\",0.0174532925199433],\n",
       "            ID[\"EPSG\",8802]],\n",
       "        PARAMETER[\"False easting\",0,\n",
       "            LENGTHUNIT[\"metre\",1],\n",
       "            ID[\"EPSG\",8806]],\n",
       "        PARAMETER[\"False northing\",0,\n",
       "            LENGTHUNIT[\"metre\",1],\n",
       "            ID[\"EPSG\",8807]]],\n",
       "    CS[Cartesian,2],\n",
       "        AXIS[\"(E)\",north,\n",
       "            MERIDIAN[90,\n",
       "                ANGLEUNIT[\"degree\",0.0174532925199433,\n",
       "                    ID[\"EPSG\",9122]]],\n",
       "            ORDER[1],\n",
       "            LENGTHUNIT[\"metre\",1,\n",
       "                ID[\"EPSG\",9001]]],\n",
       "        AXIS[\"(N)\",north,\n",
       "            MERIDIAN[0,\n",
       "                ANGLEUNIT[\"degree\",0.0174532925199433,\n",
       "                    ID[\"EPSG\",9122]]],\n",
       "            ORDER[2],\n",
       "            LENGTHUNIT[\"metre\",1,\n",
       "                ID[\"EPSG\",9001]]]]"
      ]
     },
     "metadata": {},
     "output_type": "display_data"
    }
   ],
   "source": [
    "phyloreg_sf <- y$pol\n",
    "  st_crs(phyloreg_sf)\n",
    "  #plot(phyloreg_sf)\n",
    "  phyloreg_sf <- st_as_sf(phyloreg_sf, crs = \"+proj=laea +lat_0=-90 +lon_0=0 +x_0=0 +y_0=0 +ellps=WGS84 +datum=WGS84 +units=m +no_defs\")"
   ]
  },
  {
   "cell_type": "code",
   "execution_count": 22,
   "id": "75df3bea-2625-4ab1-824c-6f6022a05514",
   "metadata": {},
   "outputs": [],
   "source": [
    "names(phyloreg_sf)[3:8] <- c(\"R_val\", \"G_val\", \"B_val\", \"r_code\", \"g_code\", \"b_code\")"
   ]
  },
  {
   "cell_type": "code",
   "execution_count": 25,
   "id": "6226ea3f-a37a-4d7d-9ec2-9c17c1d3512d",
   "metadata": {},
   "outputs": [],
   "source": [
    "save_sf()"
   ]
  },
  {
   "cell_type": "code",
   "execution_count": null,
   "id": "7dd19317-9f30-4379-b345-12139a6b6187",
   "metadata": {},
   "outputs": [],
   "source": []
  }
 ],
 "metadata": {
  "kernelspec": {
   "display_name": "R",
   "language": "R",
   "name": "rlang-kernel"
  },
  "language_info": {
   "codemirror_mode": "r",
   "file_extension": ".r",
   "mimetype": "text/x-r-source",
   "name": "R",
   "pygments_lexer": "r",
   "version": "4.3.3"
  }
 },
 "nbformat": 4,
 "nbformat_minor": 5
}
