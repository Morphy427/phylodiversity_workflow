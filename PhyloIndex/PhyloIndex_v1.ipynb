{
 "cells": [
  {
   "cell_type": "code",
   "execution_count": 12,
   "id": "ed48e9ed-9aa6-4f1a-a76e-421fb8a7702a",
   "metadata": {},
   "outputs": [],
   "source": [
    "system(\"conda install r-phyloregion r-ape r-matrix r-biocmanager\")"
   ]
  },
  {
   "cell_type": "code",
   "execution_count": 6,
   "id": "cc13bce3-fad4-4950-ac41-b0db360c6679",
   "metadata": {
    "scrolled": true
   },
   "outputs": [
    {
     "name": "stderr",
     "output_type": "stream",
     "text": [
      "Updating HTML index of packages in '.Library'\n",
      "\n",
      "Making 'packages.html' ...\n",
      " done\n",
      "\n",
      "'getOption(\"repos\")' replaces Bioconductor standard repositories, see\n",
      "'help(\"repositories\", package = \"BiocManager\")' for details.\n",
      "Replacement repositories:\n",
      "    CRAN: https://cran.r-project.org\n",
      "\n",
      "Bioconductor version 3.18 (BiocManager 1.30.25), R 4.3.3 (2024-02-29)\n",
      "\n",
      "Installing package(s) 'BiocVersion', 'SparseArray'\n",
      "\n",
      "also installing the dependencies ‘zlibbioc’, ‘BiocGenerics’, ‘MatrixGenerics’, ‘S4Vectors’, ‘S4Arrays’, ‘matrixStats’, ‘IRanges’, ‘XVector’\n",
      "\n",
      "\n",
      "Updating HTML index of packages in '.Library'\n",
      "\n",
      "Making 'packages.html' ...\n",
      " done\n",
      "\n",
      "Old packages: 'abind', 'caret', 'cli', 'diffobj', 'gert', 'gower', 'httpuv',\n",
      "  'igraph', 'RCurl', 'RODBC', 'scales', 'systemfonts', 'units', 'XML'\n",
      "\n"
     ]
    }
   ],
   "source": [
    "# install.packages(\"BiocManager\")\n",
    "BiocManager::install(\"SparseArray\")"
   ]
  },
  {
   "cell_type": "code",
   "execution_count": 13,
   "id": "a1ca071b-b1c7-4396-8b6c-d6efef5aa44e",
   "metadata": {},
   "outputs": [],
   "source": [
    "library(Matrix)\n",
    "library(ape)\n",
    "library(phyloregion)\n",
    "library(SparseArray)"
   ]
  },
  {
   "cell_type": "code",
   "execution_count": 14,
   "id": "e46604bc-6908-43f0-b02d-888289974f9b",
   "metadata": {},
   "outputs": [],
   "source": [
    "args = c(\"galaxy_inputs/matrix/comm_matrix.csv\", \"galaxy_inputs/tree/comm_tree.txt.txt\")"
   ]
  },
  {
   "cell_type": "code",
   "execution_count": 15,
   "id": "c1139f65-75ea-4554-a0d2-04b7608a026c",
   "metadata": {},
   "outputs": [],
   "source": [
    "write_results <- function(){\n",
    "  write.csv2(ses_PD, \"output.csv\")\n",
    "}"
   ]
  },
  {
   "cell_type": "code",
   "execution_count": 16,
   "id": "4c48dc6b-88be-42a1-9bfc-abfaa681415e",
   "metadata": {},
   "outputs": [],
   "source": [
    "comm_matrix <- readSparseCSV(args[1])\n",
    "comm_matrix <- as(comm_matrix,\"dgCMatrix\")"
   ]
  },
  {
   "cell_type": "code",
   "execution_count": 17,
   "id": "d46d217a-e1cb-4ebe-8d3a-c142871260a6",
   "metadata": {},
   "outputs": [],
   "source": [
    "comm_tree <- read.tree(args[2])"
   ]
  },
  {
   "cell_type": "code",
   "execution_count": 18,
   "id": "92a84a45-2aa7-4e7d-85d0-0b3fb2dc7732",
   "metadata": {},
   "outputs": [],
   "source": [
    "set.seed(34)\n",
    "ses_PD <- PD_ses(comm_matrix, comm_tree, model = \"tipshuffle\", reps = 999)"
   ]
  },
  {
   "cell_type": "code",
   "execution_count": 19,
   "id": "1616ad67-c1b1-46c8-8fd6-0f4d2d241f1b",
   "metadata": {},
   "outputs": [],
   "source": [
    "write_results()"
   ]
  },
  {
   "cell_type": "code",
   "execution_count": null,
   "id": "2bf5d867-9db5-44cc-a8e3-09a049c190ef",
   "metadata": {},
   "outputs": [],
   "source": []
  }
 ],
 "metadata": {
  "kernelspec": {
   "display_name": "R",
   "language": "R",
   "name": "rlang-kernel"
  },
  "language_info": {
   "codemirror_mode": "r",
   "file_extension": ".r",
   "mimetype": "text/x-r-source",
   "name": "R",
   "pygments_lexer": "r",
   "version": "4.3.3"
  }
 },
 "nbformat": 4,
 "nbformat_minor": 5
}
