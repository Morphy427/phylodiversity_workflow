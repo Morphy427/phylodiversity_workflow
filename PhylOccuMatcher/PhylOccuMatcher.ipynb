{
 "cells": [
  {
   "cell_type": "code",
   "execution_count": 2,
   "id": "9d27efb3-d860-421e-9b94-84edb8ec9e05",
   "metadata": {},
   "outputs": [],
   "source": [
    "system(\"conda install r-phyloregion r-matrix r-ape\")"
   ]
  },
  {
   "cell_type": "code",
   "execution_count": 16,
   "id": "d1ee58e4-9446-422b-a50f-65884febb99c",
   "metadata": {},
   "outputs": [
    {
     "name": "stderr",
     "output_type": "stream",
     "text": [
      "Updating HTML index of packages in '.Library'\n",
      "\n",
      "Making 'packages.html' ...\n",
      " done\n",
      "\n"
     ]
    }
   ],
   "source": [
    "install.packages(\"BiocManager\")"
   ]
  },
  {
   "cell_type": "code",
   "execution_count": 17,
   "id": "933db178-a56b-47d1-9563-7c780993d5eb",
   "metadata": {},
   "outputs": [
    {
     "name": "stderr",
     "output_type": "stream",
     "text": [
      "'getOption(\"repos\")' replaces Bioconductor standard repositories, see\n",
      "'help(\"repositories\", package = \"BiocManager\")' for details.\n",
      "Replacement repositories:\n",
      "    CRAN: https://cran.r-project.org\n",
      "\n",
      "Bioconductor version 3.18 (BiocManager 1.30.25), R 4.3.3 (2024-02-29)\n",
      "\n",
      "Installing package(s) 'BiocVersion', 'SparseArray'\n",
      "\n",
      "also installing the dependencies ‘zlibbioc’, ‘BiocGenerics’, ‘MatrixGenerics’, ‘S4Vectors’, ‘S4Arrays’, ‘matrixStats’, ‘IRanges’, ‘XVector’\n",
      "\n",
      "\n",
      "Updating HTML index of packages in '.Library'\n",
      "\n",
      "Making 'packages.html' ...\n",
      " done\n",
      "\n",
      "Old packages: 'abind', 'caret', 'cli', 'diffobj', 'gert', 'gower', 'httpuv',\n",
      "  'igraph', 'RCurl', 'RODBC', 'scales', 'systemfonts', 'units', 'XML'\n",
      "\n"
     ]
    }
   ],
   "source": [
    "BiocManager::install(\"SparseArray\")"
   ]
  },
  {
   "cell_type": "code",
   "execution_count": 19,
   "id": "2a6769a6-5fe4-42d0-8b12-b115240ce712",
   "metadata": {},
   "outputs": [
    {
     "name": "stderr",
     "output_type": "stream",
     "text": [
      "Loading required package: BiocGenerics\n",
      "\n",
      "\n",
      "Attaching package: ‘BiocGenerics’\n",
      "\n",
      "\n",
      "The following object is masked from ‘package:phyloregion’:\n",
      "\n",
      "    counts\n",
      "\n",
      "\n",
      "The following objects are masked from ‘package:stats’:\n",
      "\n",
      "    IQR, mad, sd, var, xtabs\n",
      "\n",
      "\n",
      "The following objects are masked from ‘package:base’:\n",
      "\n",
      "    anyDuplicated, aperm, append, as.data.frame, basename, cbind,\n",
      "    colnames, dirname, do.call, duplicated, eval, evalq, Filter, Find,\n",
      "    get, grep, grepl, intersect, is.unsorted, lapply, Map, mapply,\n",
      "    match, mget, order, paste, pmax, pmax.int, pmin, pmin.int,\n",
      "    Position, rank, rbind, Reduce, rownames, sapply, setdiff, sort,\n",
      "    table, tapply, union, unique, unsplit, which.max, which.min\n",
      "\n",
      "\n",
      "Loading required package: MatrixGenerics\n",
      "\n",
      "Loading required package: matrixStats\n",
      "\n",
      "\n",
      "Attaching package: ‘MatrixGenerics’\n",
      "\n",
      "\n",
      "The following objects are masked from ‘package:matrixStats’:\n",
      "\n",
      "    colAlls, colAnyNAs, colAnys, colAvgsPerRowSet, colCollapse,\n",
      "    colCounts, colCummaxs, colCummins, colCumprods, colCumsums,\n",
      "    colDiffs, colIQRDiffs, colIQRs, colLogSumExps, colMadDiffs,\n",
      "    colMads, colMaxs, colMeans2, colMedians, colMins, colOrderStats,\n",
      "    colProds, colQuantiles, colRanges, colRanks, colSdDiffs, colSds,\n",
      "    colSums2, colTabulates, colVarDiffs, colVars, colWeightedMads,\n",
      "    colWeightedMeans, colWeightedMedians, colWeightedSds,\n",
      "    colWeightedVars, rowAlls, rowAnyNAs, rowAnys, rowAvgsPerColSet,\n",
      "    rowCollapse, rowCounts, rowCummaxs, rowCummins, rowCumprods,\n",
      "    rowCumsums, rowDiffs, rowIQRDiffs, rowIQRs, rowLogSumExps,\n",
      "    rowMadDiffs, rowMads, rowMaxs, rowMeans2, rowMedians, rowMins,\n",
      "    rowOrderStats, rowProds, rowQuantiles, rowRanges, rowRanks,\n",
      "    rowSdDiffs, rowSds, rowSums2, rowTabulates, rowVarDiffs, rowVars,\n",
      "    rowWeightedMads, rowWeightedMeans, rowWeightedMedians,\n",
      "    rowWeightedSds, rowWeightedVars\n",
      "\n",
      "\n",
      "Loading required package: S4Vectors\n",
      "\n",
      "Loading required package: stats4\n",
      "\n",
      "\n",
      "Attaching package: ‘S4Vectors’\n",
      "\n",
      "\n",
      "The following objects are masked from ‘package:Matrix’:\n",
      "\n",
      "    expand, unname\n",
      "\n",
      "\n",
      "The following object is masked from ‘package:utils’:\n",
      "\n",
      "    findMatches\n",
      "\n",
      "\n",
      "The following objects are masked from ‘package:base’:\n",
      "\n",
      "    expand.grid, I, unname\n",
      "\n",
      "\n",
      "Loading required package: S4Arrays\n",
      "\n",
      "Loading required package: abind\n",
      "\n",
      "Loading required package: IRanges\n",
      "\n",
      "\n",
      "Attaching package: ‘S4Arrays’\n",
      "\n",
      "\n",
      "The following object is masked from ‘package:abind’:\n",
      "\n",
      "    abind\n",
      "\n",
      "\n",
      "The following object is masked from ‘package:base’:\n",
      "\n",
      "    rowsum\n",
      "\n",
      "\n"
     ]
    }
   ],
   "source": [
    "library(phyloregion)\n",
    "library(SparseArray)\n",
    "library(ape)\n",
    "library(Matrix)"
   ]
  },
  {
   "cell_type": "code",
   "execution_count": 3,
   "id": "8507da52-f6bd-4f4c-8ac8-f50612d0f3c8",
   "metadata": {},
   "outputs": [],
   "source": [
    "args = c(\"galaxy_inputs/tree/actinos_tree_2024.txt\", \"galaxy_inputs/grid/actinos_gridPF_1_2024.csv.txt\")"
   ]
  },
  {
   "cell_type": "code",
   "execution_count": 5,
   "id": "5b2a8503-5980-4b6b-a515-574aaf5fcbe2",
   "metadata": {},
   "outputs": [],
   "source": [
    "save_as_mtx_fun <- function(){\n",
    "  #writeMM(obj = comm_matrix, file = \"output.mtx\")\n",
    "  writeSparseCSV(comm_matrix, \"output\", sep=\",\", transpose=FALSE, write.zeros=FALSE)\n",
    "}"
   ]
  },
  {
   "cell_type": "code",
   "execution_count": 6,
   "id": "3d79ab2c-12c7-4619-9aa1-23a8de16221d",
   "metadata": {},
   "outputs": [],
   "source": [
    "save_as_tree_fun <- function(){\n",
    "  write.tree(comm_tree, file = \"output.txt\")\n",
    "}"
   ]
  },
  {
   "cell_type": "code",
   "execution_count": 9,
   "id": "642e7a98-8efb-4eac-9e6e-02b32da7c9b7",
   "metadata": {},
   "outputs": [],
   "source": [
    "tree <- read.tree(args[1])"
   ]
  },
  {
   "cell_type": "code",
   "execution_count": 10,
   "id": "f3aa6a80-574a-4b43-985d-3fec58bde6eb",
   "metadata": {},
   "outputs": [],
   "source": [
    "grid <- read.csv2(args[2], dec = \".\", sep = \";\", header = T, na.strings = \"\")"
   ]
  },
  {
   "cell_type": "code",
   "execution_count": 11,
   "id": "5b7fab35-95c9-496d-8b2f-a7f3b9504b32",
   "metadata": {},
   "outputs": [],
   "source": [
    "sparse_grid <- long2sparse(grid, grid = \"grids\", species = \"newscientificname\")"
   ]
  },
  {
   "cell_type": "code",
   "execution_count": 12,
   "id": "4b17b99d-4937-498e-a3b9-6eaec4b75fa8",
   "metadata": {},
   "outputs": [],
   "source": [
    "com.data <- match_phylo_comm(tree, sparse_grid, delete_empty_rows = F)"
   ]
  },
  {
   "cell_type": "code",
   "execution_count": 13,
   "id": "6535123d-e2a7-48ad-bf3a-022fd2a49906",
   "metadata": {},
   "outputs": [],
   "source": [
    "comm_matrix <- com.data$comm  \n",
    "comm_tree <- com.data$phy"
   ]
  },
  {
   "cell_type": "code",
   "execution_count": 20,
   "id": "5cf2f283-be6f-423f-a13f-a102cfeada88",
   "metadata": {},
   "outputs": [],
   "source": [
    "save_as_mtx_fun()"
   ]
  },
  {
   "cell_type": "code",
   "execution_count": 21,
   "id": "52c47eee-a26a-46ee-ad56-7415dea75131",
   "metadata": {},
   "outputs": [],
   "source": [
    "save_as_tree_fun()"
   ]
  },
  {
   "cell_type": "code",
   "execution_count": null,
   "id": "6068fa4f-7420-40a6-987b-561bbf7c678a",
   "metadata": {},
   "outputs": [],
   "source": []
  }
 ],
 "metadata": {
  "kernelspec": {
   "display_name": "R",
   "language": "R",
   "name": "rlang-kernel"
  },
  "language_info": {
   "codemirror_mode": "r",
   "file_extension": ".r",
   "mimetype": "text/x-r-source",
   "name": "R",
   "pygments_lexer": "r",
   "version": "4.3.3"
  }
 },
 "nbformat": 4,
 "nbformat_minor": 5
}
